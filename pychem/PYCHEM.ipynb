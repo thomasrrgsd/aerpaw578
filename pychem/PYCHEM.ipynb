{
 "cells": [
  {
   "cell_type": "markdown",
   "id": "1f59c4e4",
   "metadata": {},
   "source": [
    "# CHEM INTRODUCTION\n",
    "\n",
    "### What is CHEM and PyCHEM\n",
    "\n",
    "CHEM stands for channel emulator. We've modified the hardware drivers to communicate over network to transfer signals instead of through hardware. Channel Emulator takes the raw I/Q samples and applies channels effects(Path Loss, Ch. Coeffs., etc.). Channel Emulator runs inside the CHEM-VM which experimenters don't have access to it. To configure CHEM for different scenarios, it needs to be controlled with pyCHEM. pyCHEM is a python library for communicating with CHEM remotely. \n",
    "\n",
    "### How To Connect CHEM with pyCHEM\n",
    "\n",
    "There are 2 options,\n",
    "\n",
    "* __Jupyter Notebook__\n",
    "    \n",
    "    Jupyter notebook is python notebook interface which allows live coding in Python. It runs as a server and user can connect to it with the web interface Jupyter provides. User will be able to execute code inside the OEO-CONSOLE without trying to run it over command line. \n",
    "    \n",
    "    To connect,\n",
    "    * ssh to OEO-CONSOLE with port forwarding to 8888 \n",
    "    ```\n",
    "     ~ ssh -L localhost:8888:localhost:8888 root@<oeo-console-ip-address>\n",
    "    ```\n",
    "    * After establishing ssh connection to OEO-Console, go to the directory you want to work on(for saving your project files)\n",
    "    * Jupyter notebook should be started with the command below\n",
    "    ```\n",
    "     ~ python3 -m notebook\n",
    "    ```\n",
    "    * Previous command will start the Jupyter notebook web server and provide link similar to output below,\n",
    "    <div class=\"alert alert-block alert-warning\">\n",
    "        To access the notebook, open this file in a browser:<br>                \n",
    "        <a href=\"\">http://localhost:8888/?token=2d4e9f5b1ea0fa4031fe4bd287303db89400942f1d714cd4</a> <br>\n",
    "     or <a href=\"\">http://127.0.0.1:8888/?token=2d4e9f5b1ea0fa4031fe4bd287303db89400942f1d714cd4</a>\n",
    "    </div>\n",
    "    <br>\n",
    "    * After opening the localhost link that is provided in the command line, you will be able to use PyCHEM\n",
    "* __Python Shell__\n",
    "\n",
    "    Python shell is much easier to access but it might be hard to use in the long term. You will be using command line interface of Python. User should keep this in mind that nothing is saved on Python shell. It mostly useful quick tests.\n",
    "    * User can connect OEO-CONSOLE without port forwarding such as below \n",
    "    ```\n",
    "     ~ ssh root@<oeo-console-ip-address>\n",
    "    ```\n",
    "    * After establishing ssh connection, you just need to run the command below,\n",
    "    ```\n",
    "     ~ python3 \n",
    "    ```\n",
    "    \n",
    "\n",
    "After accessing to any of the Python interfaces above, you can send commands to CHEM with pyCHEM.\n"
   ]
  },
  {
   "cell_type": "markdown",
   "id": "a2c5ddcc",
   "metadata": {},
   "source": [
    "#  Setup of pyCHEM Environment and Getting Information from CHEM"
   ]
  },
  {
   "cell_type": "code",
   "execution_count": 1,
   "id": "82366ac3",
   "metadata": {},
   "outputs": [],
   "source": [
    "## First import the pychem with the command below\n",
    "from pychem import *"
   ]
  },
  {
   "cell_type": "markdown",
   "id": "0e9681ed",
   "metadata": {},
   "source": [
    "The below code provides the connection to CHEM. You are not going to provide the ip address in the OEO-CONSOLE. The code below is for demonstration purposes. It creates an object called ```ch``` and user needs to use it for all future changes in the CHEM."
   ]
  },
  {
   "cell_type": "code",
   "execution_count": 7,
   "id": "ffd93e46",
   "metadata": {},
   "outputs": [],
   "source": [
    "ch = CHEM()"
   ]
  },
  {
   "cell_type": "markdown",
   "id": "8bcc7adb",
   "metadata": {},
   "source": [
    "To get the nodes that are connected to CHEM you can run the command below. It will return a boolean. You can access nodes from ```ch.nodes``` This will allow you to see information related to nodes(frequencies, sampling rates, number of channels, etc.)"
   ]
  },
  {
   "cell_type": "code",
   "execution_count": 8,
   "id": "f72f6ead",
   "metadata": {},
   "outputs": [
    {
     "name": "stdout",
     "output_type": "stream",
     "text": [
      "None\n"
     ]
    },
    {
     "data": {
      "text/plain": [
       "True"
      ]
     },
     "execution_count": 8,
     "metadata": {},
     "output_type": "execute_result"
    }
   ],
   "source": [
    "ch.getNodes()"
   ]
  },
  {
   "cell_type": "code",
   "execution_count": 4,
   "id": "ecadb82e",
   "metadata": {},
   "outputs": [
    {
     "ename": "TypeError",
     "evalue": "'NoneType' object is not subscriptable",
     "output_type": "error",
     "traceback": [
      "\u001b[0;31m---------------------------------------------------------------------------\u001b[0m",
      "\u001b[0;31mTypeError\u001b[0m                                 Traceback (most recent call last)",
      "\u001b[0;32m<ipython-input-4-f66e5ede6137>\u001b[0m in \u001b[0;36m<module>\u001b[0;34m\u001b[0m\n\u001b[0;32m----> 1\u001b[0;31m \u001b[0mch\u001b[0m\u001b[0;34m.\u001b[0m\u001b[0mnodes\u001b[0m\u001b[0;34m[\u001b[0m\u001b[0;34m\"enb-1\"\u001b[0m\u001b[0;34m]\u001b[0m\u001b[0;34m[\u001b[0m\u001b[0;34m\"rxsampleRate\"\u001b[0m\u001b[0;34m]\u001b[0m\u001b[0;34m\u001b[0m\u001b[0;34m\u001b[0m\u001b[0m\n\u001b[0m",
      "\u001b[0;31mTypeError\u001b[0m: 'NoneType' object is not subscriptable"
     ]
    }
   ],
   "source": [
    "ch.nodes[\"enb-1\"][\"rxsampleRate\"]"
   ]
  },
  {
   "cell_type": "markdown",
   "id": "77d9fb40",
   "metadata": {},
   "source": [
    "To get the recent channel information, the ``` getChannels ``` function needs to be called. It will return a boolean regarding the process. If it successfully received all the information, it will return True. After successfull retrieval of channel information, channel dictionary can be accessed with ``` ch.channels ``` variable. The channel dictionary has the information as shown below,\n",
    "\n",
    "```\n",
    "{\n",
    "    channel-id(freq in MHz) : {\n",
    "         pathLoss: pathLossModel,\n",
    "         sRate: samplingRate\n",
    "    }\n",
    "}\n",
    "\n",
    "```\n"
   ]
  },
  {
   "cell_type": "code",
   "execution_count": 6,
   "id": "f9f9ab78",
   "metadata": {},
   "outputs": [
    {
     "name": "stdout",
     "output_type": "stream",
     "text": [
      "None\n"
     ]
    },
    {
     "data": {
      "text/plain": [
       "True"
      ]
     },
     "execution_count": 6,
     "metadata": {},
     "output_type": "execute_result"
    }
   ],
   "source": [
    "ch.getChannels()"
   ]
  },
  {
   "cell_type": "markdown",
   "id": "98052b28",
   "metadata": {},
   "source": [
    "The above function only provides information related to frequency channels. User can only modify __path loss__ from that information. It might be confusing but there are more channels when we think about individual paths between nodes. Therefore, ``` getIndividualChannels``` function exist. It parses individual channel information from CHEM. The information provides  \n",
    "```\n",
    "{\n",
    "    freq: {\n",
    "       individual-channel-id: channel-coefficient\n",
    "    }\n",
    "}\n",
    "\n",
    "```\n",
    "\n",
    "The ``` individual-channel-id``` is the key for changing the channel coefficients. Therefore, it is the primary key to point out to individual channel."
   ]
  },
  {
   "cell_type": "code",
   "execution_count": 6,
   "id": "b14e9317",
   "metadata": {},
   "outputs": [
    {
     "name": "stdout",
     "output_type": "stream",
     "text": [
      "None\n"
     ]
    },
    {
     "data": {
      "text/plain": [
       "True"
      ]
     },
     "execution_count": 6,
     "metadata": {},
     "output_type": "execute_result"
    }
   ],
   "source": [
    "ch.getIndividualChannels()"
   ]
  },
  {
   "cell_type": "code",
   "execution_count": 7,
   "id": "4f5c9ae7",
   "metadata": {},
   "outputs": [
    {
     "data": {
      "text/plain": [
       "{'2560.000000': {'enb-1-CH-0==>ue-1-CH-0': 1.0},\n",
       " '2680.000000': {'ue-1-CH-0==>enb-1-CH-0': 1.0, 'ue-1-CH-0==>enb-1-CH-1': 1.0}}"
      ]
     },
     "execution_count": 7,
     "metadata": {},
     "output_type": "execute_result"
    }
   ],
   "source": [
    "{'2560.000000': {'enb-1-CH-0==>ue-1-CH-0': 1.0}, '2680.000000': {'ue-1-CH-0==>enb-1-CH-0': 1.0, 'ue-1-CH-0==>enb-1-CH-1': 1.0}}"
   ]
  },
  {
   "cell_type": "markdown",
   "id": "23fdb5a4",
   "metadata": {},
   "source": [
    "# Modifying the Channel & Examples"
   ]
  },
  {
   "cell_type": "markdown",
   "id": "fcf4ddd8",
   "metadata": {},
   "source": [
    "In this part, we will give details about how to configure CHEM for different scenarios. The below lines provide examples. We will start with changing channel coefficients. To change the specific individual channel, ``` change_channel_coeffs(coeff, freq, individual-channel-id)``` function needs to be used. As for now, user can only set 1 parameter. The example given below, change the available 2 channels coefficients to 0.1. This coefficient is multiplied with the received signal in the CHEM. Simply, user will be changing the power level of the signal with this function"
   ]
  },
  {
   "cell_type": "code",
   "execution_count": 7,
   "id": "72f8d84c",
   "metadata": {},
   "outputs": [
    {
     "name": "stdout",
     "output_type": "stream",
     "text": [
      "{'result': False}\n"
     ]
    },
    {
     "data": {
      "text/plain": [
       "True"
      ]
     },
     "execution_count": 7,
     "metadata": {},
     "output_type": "execute_result"
    }
   ],
   "source": [
    "ch.change_channel_coeffs(1., 2680, 'ue-1-CH-0==>enb-1-CH-0')"
   ]
  },
  {
   "cell_type": "code",
   "execution_count": 8,
   "id": "b257694d",
   "metadata": {},
   "outputs": [
    {
     "name": "stdout",
     "output_type": "stream",
     "text": [
      "{'result': False}\n"
     ]
    },
    {
     "data": {
      "text/plain": [
       "True"
      ]
     },
     "execution_count": 8,
     "metadata": {},
     "output_type": "execute_result"
    }
   ],
   "source": [
    "ch.change_channel_coeffs(1., 2560, 'enb-1-CH-0==>ue-1-CH-0')"
   ]
  },
  {
   "cell_type": "markdown",
   "id": "a358f51f",
   "metadata": {},
   "source": [
    "To change the antenna model for specific node, ``` changeAntenna(node_name, antenna_model)``` function needs to be used. As of now, there are 2 supported antenna models which are __ISOTROPIC__ and __OMNI_DIRECTIONAL__ antennas. As default, CHEM starts the nodes with __ISOTROPIC__ antenna model. Therefore, any changes need to be done everytime CHEM starts. As a note, this function also returns a boolean if the operation is successful or not. "
   ]
  },
  {
   "cell_type": "code",
   "execution_count": 9,
   "id": "b418c0af",
   "metadata": {},
   "outputs": [
    {
     "name": "stdout",
     "output_type": "stream",
     "text": [
      "{'result': False}\n"
     ]
    },
    {
     "data": {
      "text/plain": [
       "True"
      ]
     },
     "execution_count": 9,
     "metadata": {},
     "output_type": "execute_result"
    }
   ],
   "source": [
    "ch.changeAntenna(\"enb-1\", \"OMNI_DIRECTIONAL\") ## or \"ISOTROPIC\""
   ]
  },
  {
   "cell_type": "markdown",
   "id": "8b5d99d8",
   "metadata": {},
   "source": [
    "By default, CHEM connects to vehicle MAVLINKs as configured inside the CHEM configuration file(```~/.config/CHEM/config.json```). Also, the path loss model is __FREE_SPACE__ by default. This option apply path loss while the vehicle is moving. AERPAW users don't need to do any configuration related to vehicles since it's going to be configured before it's given to user. To change the path loss, channel information(__not__ the individual) needs to used. The function for changing pathLoss mode is ```changePathLoss(channel-id(freq in MHz), pathloss_mode, groundReflectionCoeff)```. There are 3 path loss models,\n",
    "\n",
    "* __NONE__ (No path loss is applied and signal doesn't vary in terms of path loss)\n",
    "* __FREE_SPACE__\n",
    "* __2_RAY__\n",
    "\n",
    "As a note, this function also returns a boolean if the operation is successful or not. \n",
    "\n",
    "\n",
    "For groundReflectionCoeff, this is specific to __2_RAY__ path loss model. \n",
    "\n",
    "* __NONE__ or __FREE_SPACE__ : These models don't require any parameters. It can be left empty.\n",
    "* __2_RAY__: The groundReflectionCoeff is -1 by default. This parameter needs to be set when the path loss model is changed. \n",
    "    "
   ]
  },
  {
   "cell_type": "code",
   "execution_count": 10,
   "id": "33bba30e",
   "metadata": {},
   "outputs": [
    {
     "data": {
      "text/plain": [
       "True"
      ]
     },
     "execution_count": 10,
     "metadata": {},
     "output_type": "execute_result"
    }
   ],
   "source": [
    "ch.changePathloss(2560, \"NONE\")"
   ]
  },
  {
   "cell_type": "markdown",
   "id": "b6e3853d",
   "metadata": {},
   "source": [
    "It's also possible to add noise to channel. As of now, CHEM only has __AWGN__ as an option. By default, CHEM starts without any noise. User specifically choose it for __individual_channels__. To change the noise, ```changeNoiseModel(noiseModel, noisePower(in dB), freq(in MHz), individual-channel-id)```. The supported options for noiseModel are,\n",
    "\n",
    "* __NONE__\n",
    "* __AWGN__\n",
    "\n",
    "As a note, this function also returns a boolean if the operation is successful or not. This function is being __developed__ right now, it might have some problems."
   ]
  },
  {
   "cell_type": "code",
   "execution_count": 11,
   "id": "0a642df0",
   "metadata": {},
   "outputs": [
    {
     "name": "stdout",
     "output_type": "stream",
     "text": [
      "{'result': False}\n"
     ]
    }
   ],
   "source": [
    "ch.changeNoiseModel(\"AWGN\", 20, 2560, 'enb-1-CH-0==>ue-1-CH-0')"
   ]
  },
  {
   "cell_type": "code",
   "execution_count": null,
   "id": "6e3a149c",
   "metadata": {},
   "outputs": [],
   "source": []
  }
 ],
 "metadata": {
  "kernelspec": {
   "display_name": "Python 3",
   "language": "python",
   "name": "python3"
  },
  "language_info": {
   "codemirror_mode": {
    "name": "ipython",
    "version": 3
   },
   "file_extension": ".py",
   "mimetype": "text/x-python",
   "name": "python",
   "nbconvert_exporter": "python",
   "pygments_lexer": "ipython3",
   "version": "3.6.9"
  }
 },
 "nbformat": 4,
 "nbformat_minor": 5
}
